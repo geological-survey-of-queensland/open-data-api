{
 "cells": [
  {
   "cell_type": "code",
   "execution_count": 50,
   "metadata": {},
   "outputs": [],
   "source": [
    "import pandas as pd\n",
    "import numpy as np\n",
    "\n",
    "pd.set_option('display.max_rows', 500)\n",
    "pd.set_option('display.max_columns', 500)"
   ]
  },
  {
   "cell_type": "code",
   "execution_count": 4,
   "metadata": {},
   "outputs": [],
   "source": [
    "df = pd.read_csv(r'H:\\GSQ_Seimisc_Datasets.csv', low_memory=False)"
   ]
  },
  {
   "cell_type": "code",
   "execution_count": 7,
   "metadata": {},
   "outputs": [
    {
     "data": {
      "text/html": [
       "<div>\n",
       "<style scoped>\n",
       "    .dataframe tbody tr th:only-of-type {\n",
       "        vertical-align: middle;\n",
       "    }\n",
       "\n",
       "    .dataframe tbody tr th {\n",
       "        vertical-align: top;\n",
       "    }\n",
       "\n",
       "    .dataframe thead th {\n",
       "        text-align: right;\n",
       "    }\n",
       "</style>\n",
       "<table border=\"1\" class=\"dataframe\">\n",
       "  <thead>\n",
       "    <tr style=\"text-align: right;\">\n",
       "      <th></th>\n",
       "      <th>resource:description</th>\n",
       "      <th>cache_last_updated</th>\n",
       "      <th>package_id</th>\n",
       "      <th>datastore_contains_all_records_of_source_file</th>\n",
       "      <th>datastore_active</th>\n",
       "      <th>id</th>\n",
       "      <th>size</th>\n",
       "      <th>resource:format</th>\n",
       "      <th>resource:size</th>\n",
       "      <th>download_url</th>\n",
       "      <th>state</th>\n",
       "      <th>last_modified</th>\n",
       "      <th>hash</th>\n",
       "      <th>description</th>\n",
       "      <th>format</th>\n",
       "      <th>mimetype_inner</th>\n",
       "      <th>url_type</th>\n",
       "      <th>mimetype</th>\n",
       "      <th>cache_url</th>\n",
       "      <th>resource:access_rights</th>\n",
       "      <th>name</th>\n",
       "      <th>created</th>\n",
       "      <th>url</th>\n",
       "      <th>resource:resource_type</th>\n",
       "      <th>position</th>\n",
       "      <th>revision_id</th>\n",
       "      <th>resource_type</th>\n",
       "      <th>rid</th>\n",
       "      <th>rauthor</th>\n",
       "      <th>rspatial</th>\n",
       "      <th>type</th>\n",
       "      <th>original_url</th>\n",
       "      <th>resource_id</th>\n",
       "      <th>set_url_type</th>\n",
       "      <th>ignore_hash</th>\n",
       "      <th>ckan_url</th>\n",
       "      <th>task_created</th>\n",
       "    </tr>\n",
       "  </thead>\n",
       "  <tbody>\n",
       "    <tr>\n",
       "      <th>0</th>\n",
       "      <td>CR006342 Report Geometry</td>\n",
       "      <td>NaN</td>\n",
       "      <td>aaa7c8c3-d69b-4ae6-bc4b-2542301b7e6e</td>\n",
       "      <td>False</td>\n",
       "      <td>False</td>\n",
       "      <td>geo-doc443809-cr006342</td>\n",
       "      <td>NaN</td>\n",
       "      <td>ZIP</td>\n",
       "      <td>2.65 KB</td>\n",
       "      <td>https://geoscience.data.qld.gov.au/dataset/aaa...</td>\n",
       "      <td>active</td>\n",
       "      <td>NaN</td>\n",
       "      <td>NaN</td>\n",
       "      <td>NaN</td>\n",
       "      <td>ZIP</td>\n",
       "      <td>NaN</td>\n",
       "      <td>NaN</td>\n",
       "      <td>NaN</td>\n",
       "      <td>NaN</td>\n",
       "      <td>http://linked.data.gov.au/def/data-access-righ...</td>\n",
       "      <td>CR006342 Report Geometry</td>\n",
       "      <td>2020-08-03T04:49:29.712294</td>\n",
       "      <td>https://gsq-prod-ckan-horizon-public.s3.ap-sou...</td>\n",
       "      <td>ASSOCIATED_DOCUMENT</td>\n",
       "      <td>0</td>\n",
       "      <td>3c12050e-b576-45a3-831f-ed8ddbcf846d</td>\n",
       "      <td>NaN</td>\n",
       "      <td>aaa7c8c3-d69b-4ae6-bc4b-2542301b7e6e</td>\n",
       "      <td>NaN</td>\n",
       "      <td>{\"type\":\"Polygon\",\"coordinates\":[[[142.7511330...</td>\n",
       "      <td>report</td>\n",
       "      <td>NaN</td>\n",
       "      <td>NaN</td>\n",
       "      <td>NaN</td>\n",
       "      <td>NaN</td>\n",
       "      <td>NaN</td>\n",
       "      <td>NaN</td>\n",
       "    </tr>\n",
       "  </tbody>\n",
       "</table>\n",
       "</div>"
      ],
      "text/plain": [
       "       resource:description cache_last_updated  \\\n",
       "0  CR006342 Report Geometry                NaN   \n",
       "\n",
       "                             package_id  \\\n",
       "0  aaa7c8c3-d69b-4ae6-bc4b-2542301b7e6e   \n",
       "\n",
       "  datastore_contains_all_records_of_source_file datastore_active  \\\n",
       "0                                         False            False   \n",
       "\n",
       "                       id size resource:format resource:size  \\\n",
       "0  geo-doc443809-cr006342  NaN             ZIP       2.65 KB   \n",
       "\n",
       "                                        download_url   state last_modified  \\\n",
       "0  https://geoscience.data.qld.gov.au/dataset/aaa...  active           NaN   \n",
       "\n",
       "  hash description format mimetype_inner url_type mimetype  cache_url  \\\n",
       "0  NaN         NaN    ZIP            NaN      NaN      NaN        NaN   \n",
       "\n",
       "                              resource:access_rights  \\\n",
       "0  http://linked.data.gov.au/def/data-access-righ...   \n",
       "\n",
       "                       name                     created  \\\n",
       "0  CR006342 Report Geometry  2020-08-03T04:49:29.712294   \n",
       "\n",
       "                                                 url resource:resource_type  \\\n",
       "0  https://gsq-prod-ckan-horizon-public.s3.ap-sou...    ASSOCIATED_DOCUMENT   \n",
       "\n",
       "  position                           revision_id resource_type  \\\n",
       "0        0  3c12050e-b576-45a3-831f-ed8ddbcf846d           NaN   \n",
       "\n",
       "                                    rid rauthor  \\\n",
       "0  aaa7c8c3-d69b-4ae6-bc4b-2542301b7e6e     NaN   \n",
       "\n",
       "                                            rspatial    type original_url  \\\n",
       "0  {\"type\":\"Polygon\",\"coordinates\":[[[142.7511330...  report          NaN   \n",
       "\n",
       "  resource_id set_url_type ignore_hash ckan_url task_created  \n",
       "0         NaN          NaN         NaN      NaN          NaN  "
      ]
     },
     "execution_count": 7,
     "metadata": {},
     "output_type": "execute_result"
    }
   ],
   "source": [
    "df.head(1)"
   ]
  },
  {
   "cell_type": "code",
   "execution_count": 25,
   "metadata": {},
   "outputs": [
    {
     "data": {
      "text/plain": [
       "14             NaN\n",
       "15             1 B\n",
       "16       935.93 MB\n",
       "17       184.41 MB\n",
       "18        37.59 KB\n",
       "           ...    \n",
       "73147     89.84 MB\n",
       "73148    499.81 MB\n",
       "73149    441.86 MB\n",
       "73150     443.2 MB\n",
       "73151    440.07 MB\n",
       "Name: resource:size, Length: 8530, dtype: object"
      ]
     },
     "execution_count": 25,
     "metadata": {},
     "output_type": "execute_result"
    }
   ],
   "source": [
    "df.loc[df['type'] == 'seismic']['resource:size']"
   ]
  },
  {
   "cell_type": "code",
   "execution_count": 60,
   "metadata": {},
   "outputs": [
    {
     "name": "stdout",
     "output_type": "stream",
     "text": [
      "18 TB\n"
     ]
    }
   ],
   "source": [
    "sumseis = 0.0\n",
    "for index, row in df.loc[df['type'] == 'seismic'].iterrows():\n",
    "    if row[\"resource:size\"] is not np.nan:\n",
    "        if \"B\" in str(row[\"resource:size\"]):\n",
    "            lines = row[\"resource:size\"].split(\" \")\n",
    "            \n",
    "            if lines[1] == \"B\":\n",
    "                multiplier = 1\n",
    "            elif lines[1] == \"KB\":\n",
    "                multiplier = 1000\n",
    "            elif lines[1] == \"MB\":\n",
    "                multiplier = 1000000\n",
    "            elif lines[1] == \"GB\":\n",
    "                multiplier = 1000000000\n",
    "            elif lines[1] == \"TB\":\n",
    "                multiplier = 1000000000000\n",
    "            else:\n",
    "                multiplier = 1000000000000000\n",
    "\n",
    "            sumseis = sumseis + float(lines[0]) * multiplier\n",
    "        \n",
    "print(round(sumseis/1e12), \"TB\" )        "
   ]
  },
  {
   "cell_type": "code",
   "execution_count": 31,
   "metadata": {},
   "outputs": [
    {
     "data": {
      "text/plain": [
       "str"
      ]
     },
     "execution_count": 31,
     "metadata": {},
     "output_type": "execute_result"
    }
   ],
   "source": []
  },
  {
   "cell_type": "code",
   "execution_count": null,
   "metadata": {},
   "outputs": [],
   "source": []
  }
 ],
 "metadata": {
  "kernelspec": {
   "display_name": "Python [conda env:gempy2021] *",
   "language": "python",
   "name": "conda-env-gempy2021-py"
  },
  "language_info": {
   "codemirror_mode": {
    "name": "ipython",
    "version": 3
   },
   "file_extension": ".py",
   "mimetype": "text/x-python",
   "name": "python",
   "nbconvert_exporter": "python",
   "pygments_lexer": "ipython3",
   "version": "3.8.8"
  }
 },
 "nbformat": 4,
 "nbformat_minor": 4
}
